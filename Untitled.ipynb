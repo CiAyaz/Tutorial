{
 "cells": [
  {
   "cell_type": "code",
   "execution_count": null,
   "metadata": {
    "collapsed": false
   },
   "outputs": [
    {
     "name": "stdout",
     "output_type": "stream",
     "text": [
      "Python 2.7.9 (default, Mar  1 2015, 12:57:24) \r\n",
      "[GCC 4.9.2] on linux2\r\n",
      "Type \"help\", \"copyright\", \"credits\" or \"license\" for more information.\r\n",
      ">>> "
     ]
    }
   ],
   "source": [
    "!/usr/bin/env python\n",
    "\n",
    "from distutils.core import setup\n",
    "\n",
    "setup(name='mpmath',\n",
    "      description = 'Python library for arbitrary-precision floating-point arithmetic',\n",
    "      version='0.19',\n",
    "      url='http://mpmath.org',\n",
    "      author='Fredrik Johansson',\n",
    "      author_email='fredrik.johansson@gmail.com',\n",
    "      license = 'BSD',\n",
    "      packages=['mpmath',\n",
    "                'mpmath/libmp',\n",
    "                'mpmath/calculus',\n",
    "                'mpmath/functions',\n",
    "                'mpmath/matrices',\n",
    "                'mpmath/tests'],\n",
    "      classifiers=['Topic :: Scientific/Engineering :: Mathematics']\n",
    "     )\n"
   ]
  },
  {
   "cell_type": "code",
   "execution_count": null,
   "metadata": {
    "collapsed": true
   },
   "outputs": [],
   "source": []
  }
 ],
 "metadata": {
  "kernelspec": {
   "display_name": "Python 3",
   "language": "python",
   "name": "python3"
  },
  "language_info": {
   "codemirror_mode": {
    "name": "ipython",
    "version": 3
   },
   "file_extension": ".py",
   "mimetype": "text/x-python",
   "name": "python",
   "nbconvert_exporter": "python",
   "pygments_lexer": "ipython3",
   "version": "3.4.2"
  }
 },
 "nbformat": 4,
 "nbformat_minor": 0
}
